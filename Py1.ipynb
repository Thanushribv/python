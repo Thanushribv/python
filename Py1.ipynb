{
 "cells": [
  {
   "cell_type": "code",
   "execution_count": 1,
   "metadata": {},
   "outputs": [],
   "source": [
    "# represents a coment in python"
   ]
  },
  {
   "cell_type": "code",
   "execution_count": 2,
   "metadata": {},
   "outputs": [],
   "source": [
    "# can be used to comment"
   ]
  },
  {
   "cell_type": "code",
   "execution_count": 3,
   "metadata": {},
   "outputs": [
    {
     "data": {
      "text/plain": [
       "'this is a literal'"
      ]
     },
     "execution_count": 3,
     "metadata": {},
     "output_type": "execute_result"
    }
   ],
   "source": [
    "'''this is a literal'''"
   ]
  },
  {
   "cell_type": "code",
   "execution_count": 4,
   "metadata": {},
   "outputs": [
    {
     "data": {
      "text/plain": [
       "'This is also literal'"
      ]
     },
     "execution_count": 4,
     "metadata": {},
     "output_type": "execute_result"
    }
   ],
   "source": [
    "\"\"\"This is also literal\"\"\""
   ]
  },
  {
   "cell_type": "code",
   "execution_count": 9,
   "metadata": {},
   "outputs": [],
   "source": [
    "a='''Literal are execuatble , whtever written inside this taken as it'''"
   ]
  },
  {
   "cell_type": "code",
   "execution_count": 10,
   "metadata": {},
   "outputs": [
    {
     "name": "stdout",
     "output_type": "stream",
     "text": [
      "Literal are execuatble , whtever written inside this taken as it\n"
     ]
    }
   ],
   "source": [
    "print(a)"
   ]
  },
  {
   "cell_type": "code",
   "execution_count": 12,
   "metadata": {},
   "outputs": [],
   "source": [
    "#this is a comment, and non executable "
   ]
  },
  {
   "cell_type": "code",
   "execution_count": 13,
   "metadata": {},
   "outputs": [],
   "source": [
    "b='This is also a literal executable prints even the space'"
   ]
  },
  {
   "cell_type": "code",
   "execution_count": 14,
   "metadata": {},
   "outputs": [
    {
     "name": "stdout",
     "output_type": "stream",
     "text": [
      "This is also a literal executable prints even the space\n"
     ]
    }
   ],
   "source": [
    "print(b)"
   ]
  },
  {
   "cell_type": "code",
   "execution_count": 15,
   "metadata": {},
   "outputs": [
    {
     "name": "stdout",
     "output_type": "stream",
     "text": [
      "Same as literal\n"
     ]
    }
   ],
   "source": [
    "c=\"\"\"Same as literal\"\"\"\n",
    "print(c)\n"
   ]
  },
  {
   "cell_type": "code",
   "execution_count": 16,
   "metadata": {},
   "outputs": [
    {
     "data": {
      "text/plain": [
       "94035713148544"
      ]
     },
     "execution_count": 16,
     "metadata": {},
     "output_type": "execute_result"
    }
   ],
   "source": [
    "#id\n",
    "a=20\n",
    "id(a)"
   ]
  },
  {
   "cell_type": "code",
   "execution_count": 17,
   "metadata": {},
   "outputs": [
    {
     "name": "stdout",
     "output_type": "stream",
     "text": [
      "94035713148224\n"
     ]
    }
   ],
   "source": [
    "b=10\n",
    "print(id(b))"
   ]
  },
  {
   "cell_type": "code",
   "execution_count": 19,
   "metadata": {},
   "outputs": [
    {
     "name": "stdout",
     "output_type": "stream",
     "text": [
      "thanu\n",
      "139772199024432\n"
     ]
    }
   ],
   "source": [
    "c=\"thanu\"\n",
    "print(c)\n",
    "print(id(c))"
   ]
  },
  {
   "cell_type": "code",
   "execution_count": 20,
   "metadata": {},
   "outputs": [
    {
     "name": "stdout",
     "output_type": "stream",
     "text": [
      "94035713150784\n"
     ]
    }
   ],
   "source": [
    "b=90\n",
    "print(id(b))"
   ]
  },
  {
   "cell_type": "code",
   "execution_count": 25,
   "metadata": {},
   "outputs": [
    {
     "name": "stdout",
     "output_type": "stream",
     "text": [
      "Enter your name:Thanushri\n",
      "Hi Thanushri\n"
     ]
    }
   ],
   "source": [
    "#this is input \n",
    "#when u create a var d it means ur reserving some space in the memory location to store the value \n",
    "d=input(\"Enter your name:\")\n",
    "print(\"Hi\",d)"
   ]
  },
  {
   "cell_type": "code",
   "execution_count": 29,
   "metadata": {},
   "outputs": [
    {
     "name": "stdout",
     "output_type": "stream",
     "text": [
      "The id value of the variable e is 139772199040880\n",
      "The id value of the variable e is 139772275192696\n"
     ]
    }
   ],
   "source": [
    "e=\"Thanushri\"\n",
    "print(\"The id value of the variable e is\",id(e))\n",
    "e=\"python\"\n",
    "print(\"The id value of the variable e is\",id(e))"
   ]
  },
  {
   "cell_type": "code",
   "execution_count": 30,
   "metadata": {},
   "outputs": [
    {
     "name": "stdout",
     "output_type": "stream",
     "text": [
      "[1, 2, 3, 4]\n",
      "the id of the list is 139772199006728\n",
      "[1, 2, 3, 4, 5]\n",
      "The id of the list is 139772199006728\n",
      "[1, 2, 3, 4, 5, 6]\n",
      "The id of the list is 139772198855688\n"
     ]
    }
   ],
   "source": [
    "#python ex on standard datatype list that is mutable \n",
    "#list is indicated by []\n",
    "lst=[1,2,3,4]\n",
    "print(lst)\n",
    "print(\"the id of the list is\",id(lst))\n",
    "lst.append(5)\n",
    "print(lst)\n",
    "print(\"The id of the list is\",id(lst))\n",
    "lst=[1,2,3,4,5,6]\n",
    "print(lst)\n",
    "print(\"The id of the list is\",id(lst))\n",
    "#here when u run the code the id value remains the same it means the values of list is getting added in the same menmory loc,it means that list can change (mutable) add/delete"
   ]
  },
  {
   "cell_type": "code",
   "execution_count": 36,
   "metadata": {},
   "outputs": [
    {
     "name": "stdout",
     "output_type": "stream",
     "text": [
      "<class 'complex'>\n",
      "<class 'int'>\n",
      "<class 'float'>\n",
      "10 10.926743 (10+6j)\n"
     ]
    }
   ],
   "source": [
    "#type is used to get the datatype of a variable immutable datatype Number,float,complex number\n",
    "f=10\n",
    "g=10.926743\n",
    "h=10+6j\n",
    "print(type(h))\n",
    "print(type(f))\n",
    "print(type(g))\n",
    "print(f,g,h)"
   ]
  },
  {
   "cell_type": "code",
   "execution_count": 41,
   "metadata": {},
   "outputs": [
    {
     "name": "stdout",
     "output_type": "stream",
     "text": [
      "string is a seq of char rep using single quote\n",
      "anything inside double single triple single triple double quote is considered as string in python\n",
      " python is language \n",
      "and its is used in AI and ML\n",
      "<class 'str'>\n",
      "<class 'str'>\n",
      "<class 'str'>\n"
     ]
    }
   ],
   "source": [
    "#immutable  string datatype\n",
    "#string indicated by '',\"\",'''''',\"\"\"\"\"\"\n",
    "i='string is a seq of char rep using single quote'\n",
    "j=\"anything inside double single triple single triple double quote is considered as string in python\"\n",
    "k=''' python is language \n",
    "and its is used in AI and ML'''\n",
    "print(i)\n",
    "print(j)\n",
    "print(k)\n",
    "print(type(i))\n",
    "print(type(j))\n",
    "print(type(k))"
   ]
  },
  {
   "cell_type": "code",
   "execution_count": 45,
   "metadata": {},
   "outputs": [
    {
     "name": "stdout",
     "output_type": "stream",
     "text": [
      "(10, 100, 10.5, (67+7j), 'this is python')\n",
      "(10, 100, 10.5, (67+7j), 'this is python')\n",
      "<class 'tuple'>\n"
     ]
    },
    {
     "data": {
      "text/plain": [
       "tuple"
      ]
     },
     "execution_count": 45,
     "metadata": {},
     "output_type": "execute_result"
    }
   ],
   "source": [
    "#immutable tuple datatype\n",
    "#tuple indicated by ()\n",
    "#tuple can take any datatype (both mutable and immutable)\n",
    "#By defualt if u dont add () brakets also python takes by default as tuple\n",
    "l=(10,100,10.50,67+7j,\"this is python\")\n",
    "L=10,100,10.50,67+7j,\"this is python\"\n",
    "print(l)\n",
    "print(L)\n",
    "print(type(l))\n",
    "type(l)\n",
    "type(L)\n"
   ]
  },
  {
   "cell_type": "code",
   "execution_count": 44,
   "metadata": {},
   "outputs": [
    {
     "name": "stdout",
     "output_type": "stream",
     "text": [
      "[1, 2, 3.14, 'Dr AJ']\n",
      "<class 'list'>\n"
     ]
    }
   ],
   "source": [
    "#Assignment\n",
    "#create a list\n",
    "B=[1,2,3.14,'Dr AJ']\n",
    "print(B)\n",
    "print(type(B))"
   ]
  },
  {
   "cell_type": "code",
   "execution_count": 55,
   "metadata": {},
   "outputs": [
    {
     "name": "stdout",
     "output_type": "stream",
     "text": [
      "(45, 34, 23.13, [1, 2, 3], 'Thanu')\n",
      "<class 'tuple'>\n",
      "[45, 34, 23.13, [1, 2, 3], 'Thanu']\n",
      "<class 'list'>\n",
      "[45, 34, 23.13, [1, 2, 3], 'Thanu', 'shri']\n"
     ]
    }
   ],
   "source": [
    "#Assignment\n",
    "#craete a tuple c that contain number 45,34,23.13 and a list 1,2,3 and a string name\n",
    "c=(45,34,23.13,[1,2,3],\"Thanu\")\n",
    "print(c)\n",
    "print(type(c))\n",
    "id(c)\n",
    "#SINCE TUPLE IS IMMUTABLE U CANNOT CHANGE THE CONTENT EVEN THOUGH U HAVE LIST INSIDE THAT\n",
    "\n",
    "#we a create a list inside list \n",
    "c=[45,34,23.13,[1,2,3],\"Thanu\"]\n",
    "print(c)\n",
    "print(type(c))\n",
    "c.append(\"shri\")\n",
    "print(c)\n",
    "##SINCE LIST IS MUTABLE U CAN MODIFY THE ORIGINAL OR EXISTING DATA\n"
   ]
  },
  {
   "cell_type": "code",
   "execution_count": 60,
   "metadata": {},
   "outputs": [
    {
     "name": "stdout",
     "output_type": "stream",
     "text": [
      "{'Age': 10, 'Name': 'Thanusri'}\n",
      "<class 'dict'>\n"
     ]
    }
   ],
   "source": [
    "#DICTONARY-is a muttable datatype \n",
    "#it is indicated by {}\n",
    "#its a key value pair\n",
    "#var={'key':value,'key':'value'}\n",
    "d={'Age':10,'Name':\"Thanusri\"}\n",
    "print(d)\n",
    "print(type(d))"
   ]
  },
  {
   "cell_type": "code",
   "execution_count": 61,
   "metadata": {},
   "outputs": [
    {
     "name": "stdout",
     "output_type": "stream",
     "text": [
      "{'class': 'AIML', 'Time': 8}\n"
     ]
    },
    {
     "data": {
      "text/plain": [
       "dict"
      ]
     },
     "execution_count": 61,
     "metadata": {},
     "output_type": "execute_result"
    }
   ],
   "source": [
    "#Assignment fir Dictonary\n",
    "#create a dictonary D whcih contain the key class and value as AIML , it also conatins the key Time with the value 8\n",
    "D={'class':'AIML','Time':8}\n",
    "print(D)\n",
    "type(D)"
   ]
  },
  {
   "cell_type": "code",
   "execution_count": 68,
   "metadata": {},
   "outputs": [
    {
     "name": "stdout",
     "output_type": "stream",
     "text": [
      "{1, 2, 3}\n",
      "<class 'set'>\n",
      "{1, 2, 3, 4, 5, 6, 7, 8, 11}\n",
      "<class 'set'>\n"
     ]
    }
   ],
   "source": [
    "#SET\n",
    "#can be represented with {} with same datatype\n",
    "#Also removes duplicates or conatin only unique value and sorts \n",
    "\n",
    "A={1,2,3,3}\n",
    "print(A)\n",
    "print(type(A))\n",
    "\n",
    "B={11,1,1,2,3,4,5,5,5,5,5,6,6,7,8}\n",
    "print(B)\n",
    "print(type(B))"
   ]
  },
  {
   "cell_type": "code",
   "execution_count": 66,
   "metadata": {},
   "outputs": [
    {
     "name": "stdout",
     "output_type": "stream",
     "text": [
      "[{'class': 'AIML', 'Time': 8}, (1, 2, 3), [4, 5, 6]]\n",
      "<class 'list'>\n",
      "[{'class': ['AIML', 'DS', 'DL'], 'Time': 8}, (1, 2, 3), [4, 5, 6]]\n",
      "<class 'list'>\n"
     ]
    }
   ],
   "source": [
    "#Create a LIST E WHICH CONTAIN THE DICTONARY D AND A TUPLE 1,2,3,AND A LIST 4,5,6\n",
    "E=[{'class':'AIML','Time':8},(1,2,3),[4,5,6]]\n",
    "print(E)\n",
    "print(type(E))\n",
    "\n",
    "\n",
    "#Inthe dic E for the key class instead of the value aiml pass a list aiml ds dl\n",
    "#when we want to pass mutiple values to a single key in a dic then either use List or use tuple\n",
    "E=[{'class':['AIML','DS','DL'],'Time':8},(1,2,3),[4,5,6]]\n",
    "print(E)\n",
    "print(type(E))"
   ]
  },
  {
   "cell_type": "code",
   "execution_count": 75,
   "metadata": {},
   "outputs": [
    {
     "name": "stdout",
     "output_type": "stream",
     "text": [
      "5\n",
      "-1\n",
      "6\n",
      "1.5\n",
      "False\n",
      "True\n"
     ]
    }
   ],
   "source": [
    "#Operators\n",
    "#Operation performed on operands\n",
    "#ARITHMATIC OPERATION\n",
    "m=2+3\n",
    "print(m)\n",
    "n=2-3\n",
    "print(n)\n",
    "o=2*3\n",
    "print(o)\n",
    "p=3/2\n",
    "print(p)\n",
    "\n",
    "#COMPARISION PARAMTER\n",
    "A=2\n",
    "B=6\n",
    "print(A>B)\n",
    "C=9\n",
    "D=3\n",
    "print(C>D)"
   ]
  },
  {
   "cell_type": "code",
   "execution_count": 6,
   "metadata": {},
   "outputs": [
    {
     "name": "stdout",
     "output_type": "stream",
     "text": [
      "X is graeter than Y\n"
     ]
    }
   ],
   "source": [
    "#Loops are used to execute a set of statements/block multiple times\n",
    "#Two types of Loops are for and while\n",
    "#Conditional statements\n",
    "#if statemnt is a stmt where the set of statements will execute only if certain condition matches\n",
    "#every conditional stmt end with :\n",
    "X=20\n",
    "Y=10\n",
    "if X>Y:\n",
    "    print(\"X is graeter than Y\")\n",
    "elif X<Y:\n",
    "    print(\"Y is greater than X\")\n",
    "#else:\n",
    "    #print(\"X is equal to Y\")\n",
    "    \n",
    "#if u comment else and its print line then if x=10 and y=10 then it print nothing"
   ]
  },
  {
   "cell_type": "code",
   "execution_count": 3,
   "metadata": {},
   "outputs": [
    {
     "data": {
      "text/plain": [
       "'Hi\\nHELLO'"
      ]
     },
     "execution_count": 3,
     "metadata": {},
     "output_type": "execute_result"
    }
   ],
   "source": [
    "\"\"\"Hi\n",
    "HELLO\"\"\""
   ]
  },
  {
   "cell_type": "code",
   "execution_count": 13,
   "metadata": {},
   "outputs": [
    {
     "name": "stdout",
     "output_type": "stream",
     "text": [
      "10\n"
     ]
    }
   ],
   "source": [
    "z=10\n",
    "print(z)##until a var is def u cannot use it "
   ]
  },
  {
   "cell_type": "code",
   "execution_count": 1,
   "metadata": {},
   "outputs": [
    {
     "data": {
      "text/plain": [
       "'Hi\\nHello'"
      ]
     },
     "execution_count": 1,
     "metadata": {},
     "output_type": "execute_result"
    }
   ],
   "source": [
    "'''Hi\n",
    "Hello'''"
   ]
  },
  {
   "cell_type": "code",
   "execution_count": null,
   "metadata": {},
   "outputs": [],
   "source": []
  }
 ],
 "metadata": {
  "kernelspec": {
   "display_name": "Python 3",
   "language": "python",
   "name": "python3"
  },
  "language_info": {
   "codemirror_mode": {
    "name": "ipython",
    "version": 3
   },
   "file_extension": ".py",
   "mimetype": "text/x-python",
   "name": "python",
   "nbconvert_exporter": "python",
   "pygments_lexer": "ipython3",
   "version": "3.7.3"
  }
 },
 "nbformat": 4,
 "nbformat_minor": 2
}
